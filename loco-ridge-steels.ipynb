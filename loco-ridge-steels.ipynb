{
 "cells": [
  {
   "cell_type": "markdown",
   "metadata": {},
   "source": [
    "# LOCO CV to Optimize Ridge Regression Model\n",
    "Determine whether LOCO CV can improve performance"
   ]
  },
  {
   "cell_type": "code",
   "execution_count": 1,
   "metadata": {},
   "outputs": [],
   "source": [
    "from sklearn.model_selection import KFold, BaseCrossValidator, cross_val_score\n",
    "from sklearn.linear_model import RidgeCV\n",
    "from sklearn.cluster import KMeans\n",
    "from sklearn.preprocessing import StandardScaler\n",
    "from sklearn.pipeline import Pipeline\n",
    "from scipy.stats import pearsonr\n",
    "from tqdm import tqdm_notebook as tqdm\n",
    "import pandas as pd\n",
    "import numpy as np\n",
    "import os"
   ]
  },
  {
   "cell_type": "markdown",
   "metadata": {},
   "source": [
    "Set the seed for reproducibility"
   ]
  },
  {
   "cell_type": "code",
   "execution_count": 2,
   "metadata": {},
   "outputs": [],
   "source": [
    "np.random.seed(1)"
   ]
  },
  {
   "cell_type": "markdown",
   "metadata": {},
   "source": [
    "## Load in the Data\n",
    "Readin data from the Supplementary Materials of [Agrawal *et al* 2014](https://link.springer.com/article/10.1186%2F2193-9772-3-8#MOESM1)"
   ]
  },
  {
   "cell_type": "code",
   "execution_count": 3,
   "metadata": {},
   "outputs": [],
   "source": [
    "data = pd.read_excel(os.path.join('datasets', 'Steel-Dataset.xlsx'))"
   ]
  },
  {
   "cell_type": "markdown",
   "metadata": {},
   "source": [
    "Get the list of input and output columns"
   ]
  },
  {
   "cell_type": "code",
   "execution_count": 4,
   "metadata": {},
   "outputs": [],
   "source": [
    "X_cols = data.columns[1:-1]"
   ]
  },
  {
   "cell_type": "code",
   "execution_count": 5,
   "metadata": {},
   "outputs": [],
   "source": [
    "y_col = data.columns[-1]"
   ]
  },
  {
   "cell_type": "markdown",
   "metadata": {},
   "source": [
    "## Create the LOCO CV Splitter\n",
    "Create a class that uses scikit-learn's BaseCrossValidator API, so that it can be used to easily perform cross-validation etc."
   ]
  },
  {
   "cell_type": "code",
   "execution_count": 6,
   "metadata": {},
   "outputs": [],
   "source": [
    "class LocoCV(BaseCrossValidator):\n",
    "    \"\"\"Generates train/test splits for Leave-One-Cluster-Out cross-validation\n",
    "    \n",
    "    Follows the API for scikit-learns cross-validation classes\n",
    "    \n",
    "    Parameters\n",
    "    ----------\n",
    "    clusterer : ClustererMixin, tool used to generate clusters\"\"\"\n",
    "    \n",
    "    def __init__(self, clusterer=KMeans()):\n",
    "        self.clusterer = clusterer\n",
    "        \n",
    "    def _iter_test_masks(self, X, y=None, groups=None):\n",
    "                # Train the clusterer and generate cluster labels\n",
    "        labels = self.clusterer.fit_predict(X)\n",
    "        \n",
    "        # Determine the number of clusters\n",
    "        clust_labels = np.unique(labels)\n",
    "        if len(clust_labels) < 2:\n",
    "            raise ValueError('Clusterer produced < 2 labels. Cannot use for LOCO CV')\n",
    "            \n",
    "        # Loop thorugh the clusters\n",
    "        for label in clust_labels:\n",
    "            yield labels == label\n",
    "    \n",
    "    def get_n_splits(self, X, y=None, groups=None):\n",
    "        return len(np.unique(self.clusterer.fit_predict(X)))"
   ]
  },
  {
   "cell_type": "markdown",
   "metadata": {},
   "source": [
    "## Define the KMeans Clusterer\n",
    "This clusterer will be used for both testing and training"
   ]
  },
  {
   "cell_type": "code",
   "execution_count": 7,
   "metadata": {},
   "outputs": [],
   "source": [
    "kmeans = Pipeline([\n",
    "    ('normalize', StandardScaler()),\n",
    "    ('kmeans', KMeans(n_clusters=10))\n",
    "])"
   ]
  },
  {
   "cell_type": "markdown",
   "metadata": {},
   "source": [
    "## Create Ridge Models\n",
    "Make one model that uses 10-fold CV to set the regularization strength, and another that uses LOCO CV"
   ]
  },
  {
   "cell_type": "code",
   "execution_count": 8,
   "metadata": {},
   "outputs": [],
   "source": [
    "kfold_ridge = RidgeCV(alphas=np.logspace(-4,4,16), cv=KFold(n_splits=10, shuffle=True))"
   ]
  },
  {
   "cell_type": "code",
   "execution_count": 9,
   "metadata": {},
   "outputs": [],
   "source": [
    "loco_ridge = RidgeCV(**kfold_ridge.get_params())\n",
    "loco_ridge.cv = LocoCV(kmeans)"
   ]
  },
  {
   "cell_type": "markdown",
   "metadata": {},
   "source": [
    "## Test them on the Steel Dataset \n",
    "Test each model using both LOCO CV and conventional 10-fold CV to set the ridge regression parameter. We are going to test the performance of the model over 10 iterations of a 10-fold CV and LOCO CV test with k=10."
   ]
  },
  {
   "cell_type": "code",
   "execution_count": 10,
   "metadata": {},
   "outputs": [
    {
     "data": {
      "application/vnd.jupyter.widget-view+json": {
       "model_id": "2320a8015e444c21b0278b2b66273751",
       "version_major": 2,
       "version_minor": 0
      },
      "text/html": [
       "<p>Failed to display Jupyter Widget of type <code>HBox</code>.</p>\n",
       "<p>\n",
       "  If you're reading this message in the Jupyter Notebook or JupyterLab Notebook, it may mean\n",
       "  that the widgets JavaScript is still loading. If this message persists, it\n",
       "  likely means that the widgets JavaScript library is either not installed or\n",
       "  not enabled. See the <a href=\"https://ipywidgets.readthedocs.io/en/stable/user_install.html\">Jupyter\n",
       "  Widgets Documentation</a> for setup instructions.\n",
       "</p>\n",
       "<p>\n",
       "  If you're reading this message in another frontend (for example, a static\n",
       "  rendering on GitHub or <a href=\"https://nbviewer.jupyter.org/\">NBViewer</a>),\n",
       "  it may mean that your frontend doesn't currently support widgets.\n",
       "</p>\n"
      ],
      "text/plain": [
       "HBox(children=(IntProgress(value=0, max=10), HTML(value='')))"
      ]
     },
     "metadata": {},
     "output_type": "display_data"
    },
    {
     "name": "stdout",
     "output_type": "stream",
     "text": [
      "\n",
      "K-fold CV: 0.9846179274624594 0.006906503097674586\n",
      "LOCO CV: 0.9832087521161086 0.006898025003811172\n"
     ]
    }
   ],
   "source": [
    "kfold_R = []\n",
    "loco_R = []\n",
    "for i in tqdm(range(10)):\n",
    "    for train_inds, test_inds in KFold(n_splits=10, shuffle=True).split(data[X_cols], data[y_col]):\n",
    "        # Make the training and test sets\n",
    "        train_X = data[X_cols].loc[train_inds]\n",
    "        test_X = data[X_cols].loc[test_inds]\n",
    "        train_y = data[y_col].loc[train_inds]\n",
    "        test_y = data[y_col].loc[test_inds]\n",
    "\n",
    "        # Test the models\n",
    "        kfold_ridge.fit(train_X, train_y)\n",
    "        pred_y = kfold_ridge.predict(test_X)\n",
    "        kfold_R.append(pearsonr(test_y, pred_y)[0])\n",
    "\n",
    "        loco_ridge.fit(train_X, train_y)\n",
    "        pred_y = loco_ridge.predict(test_X)\n",
    "        loco_R.append(pearsonr(test_y, pred_y)[0])\n",
    "print('K-fold CV:', np.median(kfold_R), np.std(kfold_R))\n",
    "print('LOCO CV:', np.median(loco_R), np.std(loco_R))"
   ]
  },
  {
   "cell_type": "markdown",
   "metadata": {},
   "source": [
    "*Finding*: The LOCO CV and conventional CV models achieve identical performance on this test"
   ]
  },
  {
   "cell_type": "markdown",
   "metadata": {},
   "source": [
    "Repeat test using LOCO CV to test model performance"
   ]
  },
  {
   "cell_type": "code",
   "execution_count": 11,
   "metadata": {},
   "outputs": [
    {
     "data": {
      "application/vnd.jupyter.widget-view+json": {
       "model_id": "b5a9de126574417f848e6ebeeb6a1bb2",
       "version_major": 2,
       "version_minor": 0
      },
      "text/html": [
       "<p>Failed to display Jupyter Widget of type <code>HBox</code>.</p>\n",
       "<p>\n",
       "  If you're reading this message in the Jupyter Notebook or JupyterLab Notebook, it may mean\n",
       "  that the widgets JavaScript is still loading. If this message persists, it\n",
       "  likely means that the widgets JavaScript library is either not installed or\n",
       "  not enabled. See the <a href=\"https://ipywidgets.readthedocs.io/en/stable/user_install.html\">Jupyter\n",
       "  Widgets Documentation</a> for setup instructions.\n",
       "</p>\n",
       "<p>\n",
       "  If you're reading this message in another frontend (for example, a static\n",
       "  rendering on GitHub or <a href=\"https://nbviewer.jupyter.org/\">NBViewer</a>),\n",
       "  it may mean that your frontend doesn't currently support widgets.\n",
       "</p>\n"
      ],
      "text/plain": [
       "HBox(children=(IntProgress(value=0, max=10), HTML(value='')))"
      ]
     },
     "metadata": {},
     "output_type": "display_data"
    },
    {
     "name": "stdout",
     "output_type": "stream",
     "text": [
      "\n",
      "K-fold CV: 0.7980600258847953 0.18128298395240847\n",
      "LOCO CV: 0.8482634288955642 0.23251481738167534\n"
     ]
    }
   ],
   "source": [
    "kfold_R = []\n",
    "loco_R = []\n",
    "loco_alpha = []\n",
    "kfold_alpha = []\n",
    "for i in tqdm(range(10)):\n",
    "    for train_inds, test_inds in LocoCV(kmeans).split(data[X_cols], data[y_col]):\n",
    "        # Make the training and test sets\n",
    "        train_X = data[X_cols].loc[train_inds]\n",
    "        test_X = data[X_cols].loc[test_inds]\n",
    "        train_y = data[y_col].loc[train_inds]\n",
    "        test_y = data[y_col].loc[test_inds]\n",
    "\n",
    "        # Test the models\n",
    "        kfold_ridge.fit(train_X, train_y)\n",
    "        pred_y = kfold_ridge.predict(test_X)\n",
    "        kfold_R.append(pearsonr(test_y, pred_y)[0])\n",
    "        kfold_alpha.append(kfold_ridge.alpha_)\n",
    "\n",
    "        loco_ridge.fit(train_X, train_y)\n",
    "        pred_y = loco_ridge.predict(test_X)\n",
    "        loco_R.append(pearsonr(test_y, pred_y)[0])\n",
    "        loco_alpha.append(loco_ridge.alpha_)\n",
    "print('K-fold CV:', np.median(kfold_R), np.std(kfold_R))\n",
    "print('LOCO CV:', np.median(loco_R), np.std(loco_R))"
   ]
  },
  {
   "cell_type": "markdown",
   "metadata": {},
   "source": [
    "*Finding*: The performance of both models on the LOCO CV test are worse, but the R score of the model which uses LOCO CV to determine the regularization strength performs better."
   ]
  },
  {
   "cell_type": "code",
   "execution_count": 12,
   "metadata": {},
   "outputs": [
    {
     "name": "stdout",
     "output_type": "stream",
     "text": [
      "K-fold alpha: 0.003981071705534973\n",
      "LOCO alpha: 0.5411695265464638\n"
     ]
    }
   ],
   "source": [
    "print('K-fold alpha:', np.median(kfold_alpha))\n",
    "print('LOCO alpha:', np.median(loco_alpha))"
   ]
  },
  {
   "cell_type": "markdown",
   "metadata": {},
   "source": [
    "*Finding*: The LOCO CV model tends to select a stronger regularization parameter"
   ]
  },
  {
   "cell_type": "code",
   "execution_count": null,
   "metadata": {},
   "outputs": [],
   "source": []
  }
 ],
 "metadata": {
  "kernelspec": {
   "display_name": "Python 3",
   "language": "python",
   "name": "python3"
  },
  "language_info": {
   "codemirror_mode": {
    "name": "ipython",
    "version": 3
   },
   "file_extension": ".py",
   "mimetype": "text/x-python",
   "name": "python",
   "nbconvert_exporter": "python",
   "pygments_lexer": "ipython3",
   "version": "3.6.3"
  }
 },
 "nbformat": 4,
 "nbformat_minor": 2
}
