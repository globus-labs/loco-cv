{
 "cells": [
  {
   "cell_type": "markdown",
   "metadata": {},
   "source": [
    "# LOCO CV to Optimize Ridge Regression Model\n",
    "Determine whether LOCO CV can improve performance"
   ]
  },
  {
   "cell_type": "code",
   "execution_count": 1,
   "metadata": {},
   "outputs": [],
   "source": [
    "%matplotlib inline\n",
    "from matplotlib import pyplot as plt\n",
    "from sklearn.model_selection import KFold, BaseCrossValidator, cross_val_predict, GridSearchCV\n",
    "from sklearn.linear_model import Ridge\n",
    "from sklearn.cluster import KMeans\n",
    "from sklearn.preprocessing import StandardScaler\n",
    "from sklearn.pipeline import Pipeline\n",
    "from scipy.stats import pearsonr\n",
    "from tqdm import tqdm_notebook as tqdm\n",
    "import pandas as pd\n",
    "import numpy as np\n",
    "import os"
   ]
  },
  {
   "cell_type": "markdown",
   "metadata": {},
   "source": [
    "Set the seed for reproducibility"
   ]
  },
  {
   "cell_type": "code",
   "execution_count": 2,
   "metadata": {},
   "outputs": [],
   "source": [
    "np.random.seed(1)"
   ]
  },
  {
   "cell_type": "markdown",
   "metadata": {},
   "source": [
    "## Load in the Data\n",
    "Readin data from the Supplementary Materials of [Agrawal *et al* 2014](https://link.springer.com/article/10.1186%2F2193-9772-3-8#MOESM1)"
   ]
  },
  {
   "cell_type": "code",
   "execution_count": 3,
   "metadata": {},
   "outputs": [],
   "source": [
    "data = pd.read_excel(os.path.join('datasets', 'Steel-Dataset.xlsx'))"
   ]
  },
  {
   "cell_type": "markdown",
   "metadata": {},
   "source": [
    "Get the list of input and output columns"
   ]
  },
  {
   "cell_type": "code",
   "execution_count": 4,
   "metadata": {},
   "outputs": [
    {
     "name": "stdout",
     "output_type": "stream",
     "text": [
      "25 input variables: Index(['NT', 'THT', 'THt', 'THQCr', 'CT', 'Ct', 'DT', 'Dt', 'QmT', 'TT', 'Tt',\n",
      "       'TCr', 'C', 'Si', 'Mn', 'P', 'S', 'Ni', 'Cr', 'Cu', 'Mo', 'RedRatio',\n",
      "       'dA', 'dB', 'dC'],\n",
      "      dtype='object')\n"
     ]
    }
   ],
   "source": [
    "X_cols = data.columns[1:-1]\n",
    "print('{} input variables:'.format(len(X_cols)), X_cols)"
   ]
  },
  {
   "cell_type": "code",
   "execution_count": 5,
   "metadata": {},
   "outputs": [
    {
     "name": "stdout",
     "output_type": "stream",
     "text": [
      "Output column: Fatigue\n"
     ]
    }
   ],
   "source": [
    "y_col = data.columns[-1]\n",
    "print('Output column:', y_col)"
   ]
  },
  {
   "cell_type": "markdown",
   "metadata": {},
   "source": [
    "## Create the LOCO CV Splitter\n",
    "Create a class that uses scikit-learn's BaseCrossValidator API, so that it can be used to easily perform cross-validation etc."
   ]
  },
  {
   "cell_type": "code",
   "execution_count": 6,
   "metadata": {},
   "outputs": [],
   "source": [
    "class LocoCV(BaseCrossValidator):\n",
    "    \"\"\"Generates train/test splits for Leave-One-Cluster-Out cross-validation\n",
    "    \n",
    "    Follows the API for scikit-learns cross-validation classes\n",
    "    \n",
    "    Parameters\n",
    "    ----------\n",
    "    clusterer : ClustererMixin, tool used to generate clusters\"\"\"\n",
    "    \n",
    "    def __init__(self, clusterer=KMeans()):\n",
    "        self.clusterer = clusterer\n",
    "        \n",
    "    def _iter_test_masks(self, X, y=None, groups=None):\n",
    "                # Train the clusterer and generate cluster labels\n",
    "        labels = self.clusterer.fit_predict(X)\n",
    "        \n",
    "        # Determine the number of clusters\n",
    "        clust_labels = np.unique(labels)\n",
    "        if len(clust_labels) < 2:\n",
    "            raise ValueError('Clusterer produced < 2 labels. Cannot use for LOCO CV')\n",
    "            \n",
    "        # Loop thorugh the clusters\n",
    "        for label in clust_labels:\n",
    "            yield labels == label\n",
    "    \n",
    "    def get_n_splits(self, X, y=None, groups=None):\n",
    "        return len(np.unique(self.clusterer.fit_predict(X)))"
   ]
  },
  {
   "cell_type": "markdown",
   "metadata": {},
   "source": [
    "## Define the KMeans Clusterer\n",
    "This clusterer will be used for both testing and training"
   ]
  },
  {
   "cell_type": "code",
   "execution_count": 7,
   "metadata": {},
   "outputs": [],
   "source": [
    "kmeans = Pipeline([\n",
    "    ('normalize', StandardScaler()),\n",
    "    ('kmeans', KMeans(n_clusters=10, random_state=1))\n",
    "])"
   ]
  },
  {
   "cell_type": "markdown",
   "metadata": {},
   "source": [
    "## Create Ridge Models\n",
    "Use the entire training set to determine appropriate ridge parameters.\n",
    "\n",
    "LW 24Feb18: I'd prefer to not use the entire dataset to fit parameters to the model. Idealyl, I'd prefer to re-run grid search during each iteration of LOCO CV. But, given the few numbers of clusters in this dataset (3!), this means the training set will be remarkably different for each of iterations."
   ]
  },
  {
   "cell_type": "code",
   "execution_count": 8,
   "metadata": {},
   "outputs": [],
   "source": [
    "alpha_range = np.logspace(-4, 4, 32)"
   ]
  },
  {
   "cell_type": "code",
   "execution_count": 15,
   "metadata": {},
   "outputs": [
    {
     "data": {
      "text/plain": [
       "Ridge(alpha=0.0035349811050301057, copy_X=True, fit_intercept=True,\n",
       "   max_iter=None, normalize=False, random_state=None, solver='auto',\n",
       "   tol=0.001)"
      ]
     },
     "execution_count": 15,
     "metadata": {},
     "output_type": "execute_result"
    }
   ],
   "source": [
    "kfold_ridge = GridSearchCV(Ridge(), dict(alpha=alpha_range), scoring='explained_variance', cv=KFold(n_splits=10, shuffle=True))\\\n",
    "    .fit(data[X_cols], data[y_col]).best_estimator_\n",
    "kfold_ridge"
   ]
  },
  {
   "cell_type": "markdown",
   "metadata": {},
   "source": [
    "Use LOCO CV to set the regularization parameter. `GridSearchCV` averages the score across all test folds, which Bryce has noticed is problematic. "
   ]
  },
  {
   "cell_type": "code",
   "execution_count": 16,
   "metadata": {},
   "outputs": [
    {
     "data": {
      "application/vnd.jupyter.widget-view+json": {
       "model_id": "998e058dbdda466797f6dac95b905914",
       "version_major": 2,
       "version_minor": 0
      },
      "text/html": [
       "<p>Failed to display Jupyter Widget of type <code>HBox</code>.</p>\n",
       "<p>\n",
       "  If you're reading this message in the Jupyter Notebook or JupyterLab Notebook, it may mean\n",
       "  that the widgets JavaScript is still loading. If this message persists, it\n",
       "  likely means that the widgets JavaScript library is either not installed or\n",
       "  not enabled. See the <a href=\"https://ipywidgets.readthedocs.io/en/stable/user_install.html\">Jupyter\n",
       "  Widgets Documentation</a> for setup instructions.\n",
       "</p>\n",
       "<p>\n",
       "  If you're reading this message in another frontend (for example, a static\n",
       "  rendering on GitHub or <a href=\"https://nbviewer.jupyter.org/\">NBViewer</a>),\n",
       "  it may mean that your frontend doesn't currently support widgets.\n",
       "</p>\n"
      ],
      "text/plain": [
       "HBox(children=(IntProgress(value=0, max=32), HTML(value='')))"
      ]
     },
     "metadata": {},
     "output_type": "display_data"
    },
    {
     "name": "stdout",
     "output_type": "stream",
     "text": [
      "\n"
     ]
    },
    {
     "data": {
      "text/plain": [
       "Ridge(alpha=0.021017480113324872, copy_X=True, fit_intercept=True,\n",
       "   max_iter=None, normalize=False, random_state=None, solver='auto',\n",
       "   tol=0.001)"
      ]
     },
     "execution_count": 16,
     "metadata": {},
     "output_type": "execute_result"
    }
   ],
   "source": [
    "scores = []\n",
    "for alpha in tqdm(alpha_range):\n",
    "    model = Ridge(alpha=alpha)\n",
    "    my_scores = []\n",
    "    for i in range(20):\n",
    "        kmeans.set_params(kmeans__random_state=i)\n",
    "        pred_y = cross_val_predict(model, data[X_cols], data[y_col], cv=LocoCV(kmeans))\n",
    "        my_scores.append(pearsonr(pred_y, data[y_col])[0])\n",
    "    scores.append(np.mean(my_scores))\n",
    "loco_ridge = Ridge(alpha=alpha_range[np.argmax(scores)])\n",
    "loco_ridge"
   ]
  },
  {
   "cell_type": "markdown",
   "metadata": {},
   "source": [
    "## Test them on the Steel Dataset \n",
    "Test each model using both LOCO CV and conventional 10-fold CV to set the ridge regression parameter. We are going to test the performance of the model over 10 iterations of a 10-fold CV and LOCO CV test with k=10."
   ]
  },
  {
   "cell_type": "code",
   "execution_count": 11,
   "metadata": {},
   "outputs": [
    {
     "data": {
      "application/vnd.jupyter.widget-view+json": {
       "model_id": "8f06807111224c908e892eb2e8567d7f",
       "version_major": 2,
       "version_minor": 0
      },
      "text/html": [
       "<p>Failed to display Jupyter Widget of type <code>HBox</code>.</p>\n",
       "<p>\n",
       "  If you're reading this message in the Jupyter Notebook or JupyterLab Notebook, it may mean\n",
       "  that the widgets JavaScript is still loading. If this message persists, it\n",
       "  likely means that the widgets JavaScript library is either not installed or\n",
       "  not enabled. See the <a href=\"https://ipywidgets.readthedocs.io/en/stable/user_install.html\">Jupyter\n",
       "  Widgets Documentation</a> for setup instructions.\n",
       "</p>\n",
       "<p>\n",
       "  If you're reading this message in another frontend (for example, a static\n",
       "  rendering on GitHub or <a href=\"https://nbviewer.jupyter.org/\">NBViewer</a>),\n",
       "  it may mean that your frontend doesn't currently support widgets.\n",
       "</p>\n"
      ],
      "text/plain": [
       "HBox(children=(IntProgress(value=0, max=10), HTML(value='')))"
      ]
     },
     "metadata": {},
     "output_type": "display_data"
    },
    {
     "name": "stdout",
     "output_type": "stream",
     "text": [
      "\n",
      "Optimization with K-fold CV: Median=0.98 Std=0.00 over 10 tests\n",
      "LOCO CV: Median=0.98 Std=0.00 over 10 tests\n"
     ]
    }
   ],
   "source": [
    "kfold_R = []\n",
    "loco_R = []\n",
    "for i in tqdm(range(10)):\n",
    "    # Test the regular model\n",
    "    pred_y = cross_val_predict(kfold_ridge, data[X_cols], data[y_col], cv=KFold(n_splits=10, shuffle=True, random_state=i))\n",
    "    kfold_R.append(pearsonr(data[y_col], pred_y)[0])\n",
    "\n",
    "    # Test the LOCO model\n",
    "    pred_y = cross_val_predict(loco_ridge, data[X_cols], data[y_col], cv=KFold(n_splits=10, shuffle=True, random_state=i))\n",
    "    loco_R.append(pearsonr(data[y_col], pred_y)[0])\n",
    "print('Optimization with K-fold CV: Median={:.2f} Std={:.2f} over {} tests'.format(\n",
    "    np.median(kfold_R), np.std(kfold_R), len(kfold_R)))\n",
    "print('LOCO CV: Median={:.2f} Std={:.2f} over {} tests'.format(np.median(loco_R), np.std(loco_R), len(loco_R)))"
   ]
  },
  {
   "cell_type": "markdown",
   "metadata": {},
   "source": [
    "*Finding*: The LOCO  conventional CV models achieve identical performance on this test"
   ]
  },
  {
   "cell_type": "markdown",
   "metadata": {},
   "source": [
    "Repeat test using LOCO CV to test model performance"
   ]
  },
  {
   "cell_type": "code",
   "execution_count": 12,
   "metadata": {},
   "outputs": [
    {
     "data": {
      "application/vnd.jupyter.widget-view+json": {
       "model_id": "7080d05214d3487a82d6e560315fd525",
       "version_major": 2,
       "version_minor": 0
      },
      "text/html": [
       "<p>Failed to display Jupyter Widget of type <code>HBox</code>.</p>\n",
       "<p>\n",
       "  If you're reading this message in the Jupyter Notebook or JupyterLab Notebook, it may mean\n",
       "  that the widgets JavaScript is still loading. If this message persists, it\n",
       "  likely means that the widgets JavaScript library is either not installed or\n",
       "  not enabled. See the <a href=\"https://ipywidgets.readthedocs.io/en/stable/user_install.html\">Jupyter\n",
       "  Widgets Documentation</a> for setup instructions.\n",
       "</p>\n",
       "<p>\n",
       "  If you're reading this message in another frontend (for example, a static\n",
       "  rendering on GitHub or <a href=\"https://nbviewer.jupyter.org/\">NBViewer</a>),\n",
       "  it may mean that your frontend doesn't currently support widgets.\n",
       "</p>\n"
      ],
      "text/plain": [
       "HBox(children=(IntProgress(value=0, max=50), HTML(value='')))"
      ]
     },
     "metadata": {},
     "output_type": "display_data"
    },
    {
     "name": "stdout",
     "output_type": "stream",
     "text": [
      "\n",
      "Optimization with K-fold CV: Median=-0.44 Std=0.66 over 50 tests\n",
      "LOCO CV: Median=-0.38 Std=0.63 over 50 tests\n"
     ]
    }
   ],
   "source": [
    "kfold_R = []\n",
    "loco_R = []\n",
    "for i in tqdm(range(50)):\n",
    "    # Set the random seed of the clusterer\n",
    "    kmeans.steps[-1][1].random_state = i\n",
    "    lococv = LocoCV(kmeans)\n",
    "    \n",
    "    # Test the regular model\n",
    "    pred_y = cross_val_predict(kfold_ridge, data[X_cols], data[y_col], cv=lococv)\n",
    "    kfold_R.append(pearsonr(data[y_col], pred_y)[0])\n",
    "\n",
    "    # Test the LOCO model\n",
    "    pred_y = cross_val_predict(loco_ridge, data[X_cols], data[y_col], cv=lococv)\n",
    "    loco_R.append(pearsonr(data[y_col], pred_y)[0])\n",
    "\n",
    "print('Optimization with K-fold CV: Median={:.2f} Std={:.2f} over {} tests'.format(\n",
    "    np.median(kfold_R), np.std(kfold_R), len(kfold_R)))\n",
    "print('LOCO CV: Median={:.2f} Std={:.2f} over {} tests'.format(np.median(loco_R), np.std(loco_R), len(loco_R)))"
   ]
  },
  {
   "cell_type": "markdown",
   "metadata": {},
   "source": [
    "*Finding*: The performance of both models on the LOCO CV test are worse, and the test that uses LOCO CV to set the parameters  does slightly better than the original model."
   ]
  },
  {
   "cell_type": "code",
   "execution_count": 13,
   "metadata": {},
   "outputs": [
    {
     "data": {
      "text/plain": [
       "Text(0,0.5,'Count')"
      ]
     },
     "execution_count": 13,
     "metadata": {},
     "output_type": "execute_result"
    },
    {
     "data": {
      "image/png": "[encoded data removed]",
      "text/plain": [
       "<matplotlib.figure.Figure at 0x1f02ccc4400>"
      ]
     },
     "metadata": {},
     "output_type": "display_data"
    }
   ],
   "source": [
    "fig, ax = plt.subplots()\n",
    "\n",
    "bins=np.linspace(-1, 1, 25)\n",
    "ax.hist(kfold_R, bins=bins, alpha=0.5, label='K-Fold CV')\n",
    "ax.hist(loco_R, bins=bins, alpha=0.5, label='LOCO CV')\n",
    "\n",
    "ax.legend()\n",
    "\n",
    "ax.set_xlabel('$R$')\n",
    "ax.set_ylabel('Count')"
   ]
  },
  {
   "cell_type": "markdown",
   "metadata": {},
   "source": [
    "*Finding*: There is some kind of wierd, bi-model behavior. Does the better performance occur when Kmeans places 9/10 centroids in the 2 of the 3 clusters?"
   ]
  },
  {
   "cell_type": "code",
   "execution_count": null,
   "metadata": {},
   "outputs": [],
   "source": []
  }
 ],
 "metadata": {
  "kernelspec": {
   "display_name": "Python 3",
   "language": "python",
   "name": "python3"
  },
  "language_info": {
   "codemirror_mode": {
    "name": "ipython",
    "version": 3
   },
   "file_extension": ".py",
   "mimetype": "text/x-python",
   "name": "python",
   "nbconvert_exporter": "python",
   "pygments_lexer": "ipython3",
   "version": "3.6.3"
  }
 },
 "nbformat": 4,
 "nbformat_minor": 2
}
